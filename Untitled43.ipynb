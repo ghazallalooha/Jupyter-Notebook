{
 "cells": [
  {
   "cell_type": "markdown",
   "id": "634b0819-3154-4128-b25d-f48060fdadd0",
   "metadata": {
    "tags": []
   },
   "source": [
    "# \"My Jupyter Notebook on IBM Watson Studio\""
   ]
  },
  {
   "cell_type": "markdown",
   "id": "118cd6ef-49be-448e-bbc1-fe3282102594",
   "metadata": {},
   "source": [
    "**Ghazal Lalooha** <br>My desired occupation is data science related jobs."
   ]
  },
  {
   "cell_type": "markdown",
   "id": "bd3e477a-3103-4b8e-a46d-da7ac7771a19",
   "metadata": {},
   "source": [
    "*I am intersted in Data science because through it people can solve problems. It is wonderfull to see that there is one way to employ curusity and benefit from it. This my second reason to fall in love with Data Science.*"
   ]
  },
  {
   "cell_type": "markdown",
   "id": "b8ef8f4b-82dd-41b2-82a1-ed16ac43ad66",
   "metadata": {},
   "source": [
    "### The code below adds two numbers 3 and 4 and returns the result. ###"
   ]
  },
  {
   "cell_type": "code",
   "execution_count": 8,
   "id": "850c8949-fc39-4224-be22-b92b0f4e16da",
   "metadata": {},
   "outputs": [
    {
     "data": {
      "text/plain": [
       "5"
      ]
     },
     "execution_count": 8,
     "metadata": {},
     "output_type": "execute_result"
    }
   ],
   "source": [
    "s = 2 + 3\n",
    "s"
   ]
  },
  {
   "cell_type": "markdown",
   "id": "cba3fe0e-60a6-4e83-b9d0-5d42f472c931",
   "metadata": {},
   "source": [
    "<hr>Why the field of Data Science has gained prominance: <br>It enables organizations to efficiently \n",
    "<br> - process data  \n",
    "<br> - interpret data\n",
    "<br>Leaders, in turn, use this data to \n",
    "<br>1. make informed business decisions\n",
    "<br>2. drive"
   ]
  },
  {
   "cell_type": "code",
   "execution_count": null,
   "id": "321130bb-4e03-46d8-a7fe-13098ee9f09a",
   "metadata": {},
   "outputs": [],
   "source": []
  }
 ],
 "metadata": {
  "kernelspec": {
   "display_name": "Python 3",
   "language": "python",
   "name": "python3"
  },
  "language_info": {
   "codemirror_mode": {
    "name": "ipython",
    "version": 3
   },
   "file_extension": ".py",
   "mimetype": "text/x-python",
   "name": "python",
   "nbconvert_exporter": "python",
   "pygments_lexer": "ipython3",
   "version": "3.8.8"
  }
 },
 "nbformat": 4,
 "nbformat_minor": 5
}
